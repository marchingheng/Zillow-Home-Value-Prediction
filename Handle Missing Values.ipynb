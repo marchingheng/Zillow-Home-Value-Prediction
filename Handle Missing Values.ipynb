{
 "cells": [
  {
   "cell_type": "code",
   "execution_count": 1,
   "metadata": {
    "collapsed": true
   },
   "outputs": [],
   "source": [
    "import pylab\n",
    "import calendar\n",
    "import numpy as np\n",
    "import pandas as pd\n",
    "import seaborn as sn\n",
    "from scipy import stats\n",
    "from datetime import datetime\n",
    "import matplotlib\n",
    "import matplotlib.pyplot as plt\n",
    "from scipy.stats import kendalltau\n",
    "import warnings\n",
    "# from sklearn.linear_model import LinearRegression\n",
    "\n",
    "matplotlib.style.use('ggplot')\n",
    "pd.options.mode.chained_assignment = None\n",
    "warnings.filterwarnings(\"ignore\")\n",
    "\n",
    "%matplotlib inline"
   ]
  },
  {
   "cell_type": "code",
   "execution_count": 2,
   "metadata": {
    "collapsed": true
   },
   "outputs": [],
   "source": [
    "ints = ['parcelid']\n",
    "\n",
    "floats = ['basementsqft', 'bathroomcnt', 'bedroomcnt', 'calculatedbathnbr', 'finishedfloor1squarefeet', \n",
    "          'calculatedfinishedsquarefeet', 'finishedsquarefeet12', 'finishedsquarefeet13',\n",
    "          'finishedsquarefeet15', 'finishedsquarefeet50', 'finishedsquarefeet6', 'fireplacecnt',\n",
    "          'fullbathcnt', 'garagecarcnt', 'garagetotalsqft', 'latitude', 'longitude',\n",
    "          'lotsizesquarefeet', 'poolcnt', 'poolsizesum', 'roomcnt', 'threequarterbathnbr', 'unitcnt',\n",
    "          'yardbuildingsqft17', 'yardbuildingsqft26', 'yearbuilt', 'numberofstories',\n",
    "          'structuretaxvaluedollarcnt', 'taxvaluedollarcnt', 'assessmentyear',\n",
    "          'landtaxvaluedollarcnt', 'taxamount', 'taxdelinquencyyear']\n",
    "\n",
    "objects = ['airconditioningtypeid', 'architecturalstyletypeid', 'buildingclasstypeid',\n",
    "           'buildingqualitytypeid', 'decktypeid', 'fips', 'hashottuborspa', 'heatingorsystemtypeid',\n",
    "           'pooltypeid10', 'pooltypeid2', 'pooltypeid7', 'propertycountylandusecode',\n",
    "           'propertylandusetypeid', 'propertyzoningdesc', 'rawcensustractandblock', 'regionidcity',\n",
    "           'regionidcounty', 'regionidneighborhood', 'regionidzip', 'storytypeid',\n",
    "           'typeconstructiontypeid', 'fireplaceflag', 'taxdelinquencyflag', 'censustractandblock']\n",
    "\n",
    "feature_dtypes = {col: col_type for type_list, col_type in zip([ints, floats, objects],\n",
    "                                                               ['int64', 'float64', 'object']) \n",
    "                                  for col in type_list}"
   ]
  },
  {
   "cell_type": "code",
   "execution_count": 3,
   "metadata": {
    "collapsed": true
   },
   "outputs": [],
   "source": [
    "train_2017 = pd.read_csv(\"train_2017.csv\")\n",
    "train_2016 = pd.read_csv(\"train_2016.csv\")\n",
    "properties_2017 = pd.read_csv(\"properties_2017.csv\", dtype = feature_dtypes)\n",
    "properties_2016 = pd.read_csv(\"properties_2016.csv\", dtype = feature_dtypes)"
   ]
  },
  {
   "cell_type": "markdown",
   "metadata": {},
   "source": [
    "### Percentage of missing value"
   ]
  },
  {
   "cell_type": "code",
   "execution_count": 4,
   "metadata": {
    "collapsed": true
   },
   "outputs": [],
   "source": [
    "dat_2017 = pd.merge(train_2017, properties_2017, on = 'parcelid', how = 'left')"
   ]
  },
  {
   "cell_type": "code",
   "execution_count": 5,
   "metadata": {},
   "outputs": [
    {
     "data": {
      "text/plain": [
       "(77613, 60)"
      ]
     },
     "execution_count": 5,
     "metadata": {},
     "output_type": "execute_result"
    }
   ],
   "source": [
    "dat_2017.shape"
   ]
  },
  {
   "cell_type": "code",
   "execution_count": 6,
   "metadata": {
    "collapsed": true
   },
   "outputs": [],
   "source": [
    "#missingValueColumns = dat_2017.columns[dat_2017.isnull().any()].tolist()"
   ]
  },
  {
   "cell_type": "code",
   "execution_count": 7,
   "metadata": {
    "collapsed": true,
    "scrolled": true
   },
   "outputs": [],
   "source": [
    "# msno.bar(dat_2017[missingValueColumns],\\\n",
    "#             figsize=(20,8),color=\"#34495e\",fontsize=12,labels=True)"
   ]
  },
  {
   "cell_type": "code",
   "execution_count": 8,
   "metadata": {
    "collapsed": true
   },
   "outputs": [],
   "source": [
    "mis_perc = pd.DataFrame(dat_2017.isnull().sum()/len(dat_2017))\n",
    "mis_perc.columns = ['percent']"
   ]
  },
  {
   "cell_type": "code",
   "execution_count": 9,
   "metadata": {},
   "outputs": [
    {
     "data": {
      "text/html": [
       "<div>\n",
       "<style>\n",
       "    .dataframe thead tr:only-child th {\n",
       "        text-align: right;\n",
       "    }\n",
       "\n",
       "    .dataframe thead th {\n",
       "        text-align: left;\n",
       "    }\n",
       "\n",
       "    .dataframe tbody tr th {\n",
       "        vertical-align: top;\n",
       "    }\n",
       "</style>\n",
       "<table border=\"1\" class=\"dataframe\">\n",
       "  <thead>\n",
       "    <tr style=\"text-align: right;\">\n",
       "      <th></th>\n",
       "      <th>percent</th>\n",
       "    </tr>\n",
       "  </thead>\n",
       "  <tbody>\n",
       "    <tr>\n",
       "      <th>buildingclasstypeid</th>\n",
       "      <td>0.999807</td>\n",
       "    </tr>\n",
       "    <tr>\n",
       "      <th>finishedsquarefeet13</th>\n",
       "      <td>0.999459</td>\n",
       "    </tr>\n",
       "    <tr>\n",
       "      <th>basementsqft</th>\n",
       "      <td>0.999356</td>\n",
       "    </tr>\n",
       "    <tr>\n",
       "      <th>storytypeid</th>\n",
       "      <td>0.999356</td>\n",
       "    </tr>\n",
       "    <tr>\n",
       "      <th>yardbuildingsqft26</th>\n",
       "      <td>0.999098</td>\n",
       "    </tr>\n",
       "    <tr>\n",
       "      <th>fireplaceflag</th>\n",
       "      <td>0.997784</td>\n",
       "    </tr>\n",
       "    <tr>\n",
       "      <th>architecturalstyletypeid</th>\n",
       "      <td>0.997333</td>\n",
       "    </tr>\n",
       "    <tr>\n",
       "      <th>typeconstructiontypeid</th>\n",
       "      <td>0.997127</td>\n",
       "    </tr>\n",
       "    <tr>\n",
       "      <th>finishedsquarefeet6</th>\n",
       "      <td>0.995027</td>\n",
       "    </tr>\n",
       "    <tr>\n",
       "      <th>pooltypeid10</th>\n",
       "      <td>0.994009</td>\n",
       "    </tr>\n",
       "    <tr>\n",
       "      <th>decktypeid</th>\n",
       "      <td>0.992089</td>\n",
       "    </tr>\n",
       "    <tr>\n",
       "      <th>poolsizesum</th>\n",
       "      <td>0.988803</td>\n",
       "    </tr>\n",
       "    <tr>\n",
       "      <th>pooltypeid2</th>\n",
       "      <td>0.986162</td>\n",
       "    </tr>\n",
       "    <tr>\n",
       "      <th>hashottuborspa</th>\n",
       "      <td>0.980171</td>\n",
       "    </tr>\n",
       "    <tr>\n",
       "      <th>yardbuildingsqft17</th>\n",
       "      <td>0.969168</td>\n",
       "    </tr>\n",
       "    <tr>\n",
       "      <th>taxdelinquencyyear</th>\n",
       "      <td>0.962635</td>\n",
       "    </tr>\n",
       "    <tr>\n",
       "      <th>taxdelinquencyflag</th>\n",
       "      <td>0.962635</td>\n",
       "    </tr>\n",
       "    <tr>\n",
       "      <th>finishedsquarefeet15</th>\n",
       "      <td>0.960999</td>\n",
       "    </tr>\n",
       "    <tr>\n",
       "      <th>finishedfloor1squarefeet</th>\n",
       "      <td>0.922217</td>\n",
       "    </tr>\n",
       "    <tr>\n",
       "      <th>finishedsquarefeet50</th>\n",
       "      <td>0.922217</td>\n",
       "    </tr>\n",
       "    <tr>\n",
       "      <th>fireplacecnt</th>\n",
       "      <td>0.893201</td>\n",
       "    </tr>\n",
       "    <tr>\n",
       "      <th>threequarterbathnbr</th>\n",
       "      <td>0.869790</td>\n",
       "    </tr>\n",
       "    <tr>\n",
       "      <th>pooltypeid7</th>\n",
       "      <td>0.805716</td>\n",
       "    </tr>\n",
       "    <tr>\n",
       "      <th>poolcnt</th>\n",
       "      <td>0.791607</td>\n",
       "    </tr>\n",
       "    <tr>\n",
       "      <th>numberofstories</th>\n",
       "      <td>0.773247</td>\n",
       "    </tr>\n",
       "    <tr>\n",
       "      <th>airconditioningtypeid</th>\n",
       "      <td>0.677799</td>\n",
       "    </tr>\n",
       "    <tr>\n",
       "      <th>garagecarcnt</th>\n",
       "      <td>0.671189</td>\n",
       "    </tr>\n",
       "    <tr>\n",
       "      <th>garagetotalsqft</th>\n",
       "      <td>0.671189</td>\n",
       "    </tr>\n",
       "    <tr>\n",
       "      <th>regionidneighborhood</th>\n",
       "      <td>0.600917</td>\n",
       "    </tr>\n",
       "    <tr>\n",
       "      <th>heatingorsystemtypeid</th>\n",
       "      <td>0.361305</td>\n",
       "    </tr>\n",
       "    <tr>\n",
       "      <th>buildingqualitytypeid</th>\n",
       "      <td>0.358239</td>\n",
       "    </tr>\n",
       "    <tr>\n",
       "      <th>propertyzoningdesc</th>\n",
       "      <td>0.349645</td>\n",
       "    </tr>\n",
       "    <tr>\n",
       "      <th>unitcnt</th>\n",
       "      <td>0.346720</td>\n",
       "    </tr>\n",
       "    <tr>\n",
       "      <th>lotsizesquarefeet</th>\n",
       "      <td>0.106838</td>\n",
       "    </tr>\n",
       "    <tr>\n",
       "      <th>finishedsquarefeet12</th>\n",
       "      <td>0.047544</td>\n",
       "    </tr>\n",
       "    <tr>\n",
       "      <th>regionidcity</th>\n",
       "      <td>0.019404</td>\n",
       "    </tr>\n",
       "    <tr>\n",
       "      <th>fullbathcnt</th>\n",
       "      <td>0.008375</td>\n",
       "    </tr>\n",
       "    <tr>\n",
       "      <th>calculatedbathnbr</th>\n",
       "      <td>0.008375</td>\n",
       "    </tr>\n",
       "    <tr>\n",
       "      <th>yearbuilt</th>\n",
       "      <td>0.003917</td>\n",
       "    </tr>\n",
       "    <tr>\n",
       "      <th>censustractandblock</th>\n",
       "      <td>0.003621</td>\n",
       "    </tr>\n",
       "    <tr>\n",
       "      <th>calculatedfinishedsquarefeet</th>\n",
       "      <td>0.003028</td>\n",
       "    </tr>\n",
       "    <tr>\n",
       "      <th>structuretaxvaluedollarcnt</th>\n",
       "      <td>0.001920</td>\n",
       "    </tr>\n",
       "    <tr>\n",
       "      <th>regionidzip</th>\n",
       "      <td>0.001082</td>\n",
       "    </tr>\n",
       "    <tr>\n",
       "      <th>taxamount</th>\n",
       "      <td>0.000502</td>\n",
       "    </tr>\n",
       "    <tr>\n",
       "      <th>landtaxvaluedollarcnt</th>\n",
       "      <td>0.000464</td>\n",
       "    </tr>\n",
       "    <tr>\n",
       "      <th>taxvaluedollarcnt</th>\n",
       "      <td>0.000451</td>\n",
       "    </tr>\n",
       "    <tr>\n",
       "      <th>bathroomcnt</th>\n",
       "      <td>0.000438</td>\n",
       "    </tr>\n",
       "    <tr>\n",
       "      <th>assessmentyear</th>\n",
       "      <td>0.000438</td>\n",
       "    </tr>\n",
       "    <tr>\n",
       "      <th>bedroomcnt</th>\n",
       "      <td>0.000438</td>\n",
       "    </tr>\n",
       "    <tr>\n",
       "      <th>regionidcounty</th>\n",
       "      <td>0.000438</td>\n",
       "    </tr>\n",
       "    <tr>\n",
       "      <th>fips</th>\n",
       "      <td>0.000438</td>\n",
       "    </tr>\n",
       "    <tr>\n",
       "      <th>latitude</th>\n",
       "      <td>0.000438</td>\n",
       "    </tr>\n",
       "    <tr>\n",
       "      <th>longitude</th>\n",
       "      <td>0.000438</td>\n",
       "    </tr>\n",
       "    <tr>\n",
       "      <th>propertycountylandusecode</th>\n",
       "      <td>0.000438</td>\n",
       "    </tr>\n",
       "    <tr>\n",
       "      <th>propertylandusetypeid</th>\n",
       "      <td>0.000438</td>\n",
       "    </tr>\n",
       "    <tr>\n",
       "      <th>rawcensustractandblock</th>\n",
       "      <td>0.000438</td>\n",
       "    </tr>\n",
       "    <tr>\n",
       "      <th>roomcnt</th>\n",
       "      <td>0.000438</td>\n",
       "    </tr>\n",
       "    <tr>\n",
       "      <th>logerror</th>\n",
       "      <td>0.000000</td>\n",
       "    </tr>\n",
       "    <tr>\n",
       "      <th>transactiondate</th>\n",
       "      <td>0.000000</td>\n",
       "    </tr>\n",
       "    <tr>\n",
       "      <th>parcelid</th>\n",
       "      <td>0.000000</td>\n",
       "    </tr>\n",
       "  </tbody>\n",
       "</table>\n",
       "</div>"
      ],
      "text/plain": [
       "                               percent\n",
       "buildingclasstypeid           0.999807\n",
       "finishedsquarefeet13          0.999459\n",
       "basementsqft                  0.999356\n",
       "storytypeid                   0.999356\n",
       "yardbuildingsqft26            0.999098\n",
       "fireplaceflag                 0.997784\n",
       "architecturalstyletypeid      0.997333\n",
       "typeconstructiontypeid        0.997127\n",
       "finishedsquarefeet6           0.995027\n",
       "pooltypeid10                  0.994009\n",
       "decktypeid                    0.992089\n",
       "poolsizesum                   0.988803\n",
       "pooltypeid2                   0.986162\n",
       "hashottuborspa                0.980171\n",
       "yardbuildingsqft17            0.969168\n",
       "taxdelinquencyyear            0.962635\n",
       "taxdelinquencyflag            0.962635\n",
       "finishedsquarefeet15          0.960999\n",
       "finishedfloor1squarefeet      0.922217\n",
       "finishedsquarefeet50          0.922217\n",
       "fireplacecnt                  0.893201\n",
       "threequarterbathnbr           0.869790\n",
       "pooltypeid7                   0.805716\n",
       "poolcnt                       0.791607\n",
       "numberofstories               0.773247\n",
       "airconditioningtypeid         0.677799\n",
       "garagecarcnt                  0.671189\n",
       "garagetotalsqft               0.671189\n",
       "regionidneighborhood          0.600917\n",
       "heatingorsystemtypeid         0.361305\n",
       "buildingqualitytypeid         0.358239\n",
       "propertyzoningdesc            0.349645\n",
       "unitcnt                       0.346720\n",
       "lotsizesquarefeet             0.106838\n",
       "finishedsquarefeet12          0.047544\n",
       "regionidcity                  0.019404\n",
       "fullbathcnt                   0.008375\n",
       "calculatedbathnbr             0.008375\n",
       "yearbuilt                     0.003917\n",
       "censustractandblock           0.003621\n",
       "calculatedfinishedsquarefeet  0.003028\n",
       "structuretaxvaluedollarcnt    0.001920\n",
       "regionidzip                   0.001082\n",
       "taxamount                     0.000502\n",
       "landtaxvaluedollarcnt         0.000464\n",
       "taxvaluedollarcnt             0.000451\n",
       "bathroomcnt                   0.000438\n",
       "assessmentyear                0.000438\n",
       "bedroomcnt                    0.000438\n",
       "regionidcounty                0.000438\n",
       "fips                          0.000438\n",
       "latitude                      0.000438\n",
       "longitude                     0.000438\n",
       "propertycountylandusecode     0.000438\n",
       "propertylandusetypeid         0.000438\n",
       "rawcensustractandblock        0.000438\n",
       "roomcnt                       0.000438\n",
       "logerror                      0.000000\n",
       "transactiondate               0.000000\n",
       "parcelid                      0.000000"
      ]
     },
     "execution_count": 9,
     "metadata": {},
     "output_type": "execute_result"
    }
   ],
   "source": [
    "mis_perc.sort_values(by='percent', ascending = False)"
   ]
  },
  {
   "cell_type": "markdown",
   "metadata": {},
   "source": [
    "# Handling missing value"
   ]
  },
  {
   "cell_type": "code",
   "execution_count": 10,
   "metadata": {
    "collapsed": true
   },
   "outputs": [],
   "source": [
    "dat_2017.drop(['buildingclasstypeid', 'finishedsquarefeet13', 'basementsqft', 'storytypeid',\\\n",
    "                          'fireplaceflag', 'architecturalstyletypeid', 'typeconstructiontypeid', 'finishedsquarefeet6',\\\n",
    "                          'poolsizesum', 'hashottuborspa', 'taxdelinquencyyear', 'finishedsquarefeet15',\\\n",
    "                          'finishedfloor1squarefeet', 'finishedsquarefeet50', 'threequarterbathnbr',\\\n",
    "                          'poolcnt', 'censustractandblock', 'rawcensustractandblock'], axis = 1, inplace = True)"
   ]
  },
  {
   "cell_type": "code",
   "execution_count": 11,
   "metadata": {
    "collapsed": true
   },
   "outputs": [],
   "source": [
    "drop_row = ['structuretaxvaluedollarcnt','regionidzip','taxamount','landtaxvaluedollarcnt','taxvaluedollarcnt','bathroomcnt','assessmentyear','bedroomcnt','regionidcounty','fips','latitude','longitude','propertycountylandusecode','propertylandusetypeid','roomcnt', 'yearbuilt']\n",
    "for row in drop_row:\n",
    "    dat_2017 = dat_2017[dat_2017[row].notnull()]"
   ]
  },
  {
   "cell_type": "code",
   "execution_count": 12,
   "metadata": {
    "collapsed": true
   },
   "outputs": [],
   "source": [
    "rep01 = ['pooltypeid10','pooltypeid2','pooltypeid7']\n",
    "for col in rep01:\n",
    "    dat_2017[col].fillna(0, inplace = True)\n",
    "    for i in range(len(dat_2017[col])):\n",
    "        if dat_2017.loc[dat_2017.index[i],col] == '1':\n",
    "            dat_2017.loc[dat_2017.index[i],col] = 1"
   ]
  },
  {
   "cell_type": "code",
   "execution_count": 13,
   "metadata": {
    "collapsed": true
   },
   "outputs": [],
   "source": [
    "rep0 = ['yardbuildingsqft26','yardbuildingsqft17','fireplacecnt','garagecarcnt','garagetotalsqft']\n",
    "for col in rep0:\n",
    "    dat_2017[col].fillna(0, inplace = True)\n"
   ]
  },
  {
   "cell_type": "code",
   "execution_count": 14,
   "metadata": {
    "collapsed": true
   },
   "outputs": [],
   "source": [
    "dat_2017['decktypeid'].fillna(0, inplace = True)\n",
    "for i in range(len(dat_2017['decktypeid'])):\n",
    "        if dat_2017.loc[dat_2017.index[i],'decktypeid'] == '66':\n",
    "            dat_2017.loc[dat_2017.index[i],'decktypeid'] = 1"
   ]
  },
  {
   "cell_type": "code",
   "execution_count": 15,
   "metadata": {
    "collapsed": true
   },
   "outputs": [],
   "source": [
    "dat_2017['taxdelinquencyflag'].fillna(0, inplace = True)\n",
    "for i in range(len(dat_2017['taxdelinquencyflag'])):\n",
    "        if dat_2017.loc[dat_2017.index[i],'taxdelinquencyflag'] == 'Y':\n",
    "            dat_2017.loc[dat_2017.index[i],'taxdelinquencyflag'] = 1"
   ]
  },
  {
   "cell_type": "code",
   "execution_count": 16,
   "metadata": {
    "collapsed": true
   },
   "outputs": [],
   "source": [
    "dat_2017['numberofstories'].fillna(0, inplace = True)\n",
    "for i in range(len(dat_2017['numberofstories'])):\n",
    "        if dat_2017.loc[dat_2017.index[i],'numberofstories'] == '7':\n",
    "            dat_2017.loc[dat_2017.index[i],'numberofstories'] = 1"
   ]
  },
  {
   "cell_type": "code",
   "execution_count": 17,
   "metadata": {},
   "outputs": [
    {
     "data": {
      "text/plain": [
       "array([ 0.,  1.,  2.,  3.,  6.])"
      ]
     },
     "execution_count": 17,
     "metadata": {},
     "output_type": "execute_result"
    }
   ],
   "source": [
    "dat_2017.numberofstories.unique()"
   ]
  },
  {
   "cell_type": "code",
   "execution_count": 18,
   "metadata": {
    "collapsed": true
   },
   "outputs": [],
   "source": [
    "rep_mis = ['airconditioningtypeid','regionidneighborhood','heatingorsystemtypeid',\\\n",
    "           'propertyzoningdesc','unitcnt','regionidcity']\n",
    "for col in rep_mis:\n",
    "    dat_2017[col].fillna('mis', inplace = True)"
   ]
  },
  {
   "cell_type": "code",
   "execution_count": 19,
   "metadata": {
    "collapsed": true
   },
   "outputs": [],
   "source": [
    "for i in range(len(dat_2017.buildingqualitytypeid)):\n",
    "#     print(type(dat_2017.loc[dat_2017.index[i], 'buildingqualitytypeid']))\n",
    "    if type(dat_2017.loc[dat_2017.index[i], 'buildingqualitytypeid']) is str:\n",
    "        dat_2017.loc[dat_2017.index[i], 'buildingqualitytypeid'] = float(dat_2017.loc[dat_2017.index[i], 'buildingqualitytypeid']) "
   ]
  },
  {
   "cell_type": "code",
   "execution_count": 20,
   "metadata": {
    "collapsed": true
   },
   "outputs": [],
   "source": [
    "#dat_2017.to_csv('2017dat.csv')"
   ]
  },
  {
   "cell_type": "code",
   "execution_count": null,
   "metadata": {
    "collapsed": true
   },
   "outputs": [],
   "source": []
  },
  {
   "cell_type": "markdown",
   "metadata": {},
   "source": [
    "# Additional steps for OLS(fill na with mean)"
   ]
  },
  {
   "cell_type": "code",
   "execution_count": 21,
   "metadata": {
    "collapsed": true
   },
   "outputs": [],
   "source": [
    "rep_mean = ['buildingqualitytypeid','lotsizesquarefeet','finishedsquarefeet12',\\\n",
    "            'fullbathcnt','calculatedbathnbr','calculatedfinishedsquarefeet']\n",
    "for col in rep_mean:\n",
    "    dat_2017[col].fillna(dat_2017[col].mean(), inplace = True)\n"
   ]
  },
  {
   "cell_type": "code",
   "execution_count": 22,
   "metadata": {},
   "outputs": [
    {
     "data": {
      "text/html": [
       "<div>\n",
       "<style>\n",
       "    .dataframe thead tr:only-child th {\n",
       "        text-align: right;\n",
       "    }\n",
       "\n",
       "    .dataframe thead th {\n",
       "        text-align: left;\n",
       "    }\n",
       "\n",
       "    .dataframe tbody tr th {\n",
       "        vertical-align: top;\n",
       "    }\n",
       "</style>\n",
       "<table border=\"1\" class=\"dataframe\">\n",
       "  <thead>\n",
       "    <tr style=\"text-align: right;\">\n",
       "      <th></th>\n",
       "      <th>parcelid</th>\n",
       "      <th>logerror</th>\n",
       "      <th>transactiondate</th>\n",
       "      <th>airconditioningtypeid</th>\n",
       "      <th>bathroomcnt</th>\n",
       "      <th>bedroomcnt</th>\n",
       "      <th>buildingqualitytypeid</th>\n",
       "      <th>calculatedbathnbr</th>\n",
       "      <th>decktypeid</th>\n",
       "      <th>calculatedfinishedsquarefeet</th>\n",
       "      <th>...</th>\n",
       "      <th>yardbuildingsqft17</th>\n",
       "      <th>yardbuildingsqft26</th>\n",
       "      <th>yearbuilt</th>\n",
       "      <th>numberofstories</th>\n",
       "      <th>structuretaxvaluedollarcnt</th>\n",
       "      <th>taxvaluedollarcnt</th>\n",
       "      <th>assessmentyear</th>\n",
       "      <th>landtaxvaluedollarcnt</th>\n",
       "      <th>taxamount</th>\n",
       "      <th>taxdelinquencyflag</th>\n",
       "    </tr>\n",
       "  </thead>\n",
       "  <tbody>\n",
       "    <tr>\n",
       "      <th>0</th>\n",
       "      <td>14297519</td>\n",
       "      <td>0.025595</td>\n",
       "      <td>2017-01-01</td>\n",
       "      <td>mis</td>\n",
       "      <td>3.5</td>\n",
       "      <td>4.0</td>\n",
       "      <td>6.536347</td>\n",
       "      <td>3.5</td>\n",
       "      <td>0</td>\n",
       "      <td>3100.0</td>\n",
       "      <td>...</td>\n",
       "      <td>0.0</td>\n",
       "      <td>0.0</td>\n",
       "      <td>1998.0</td>\n",
       "      <td>0.0</td>\n",
       "      <td>485713.0</td>\n",
       "      <td>1023282.0</td>\n",
       "      <td>2016.0</td>\n",
       "      <td>537569.0</td>\n",
       "      <td>11013.72</td>\n",
       "      <td>0</td>\n",
       "    </tr>\n",
       "    <tr>\n",
       "      <th>1</th>\n",
       "      <td>17052889</td>\n",
       "      <td>0.055619</td>\n",
       "      <td>2017-01-01</td>\n",
       "      <td>mis</td>\n",
       "      <td>1.0</td>\n",
       "      <td>2.0</td>\n",
       "      <td>6.536347</td>\n",
       "      <td>1.0</td>\n",
       "      <td>0</td>\n",
       "      <td>1465.0</td>\n",
       "      <td>...</td>\n",
       "      <td>0.0</td>\n",
       "      <td>0.0</td>\n",
       "      <td>1967.0</td>\n",
       "      <td>1.0</td>\n",
       "      <td>88000.0</td>\n",
       "      <td>464000.0</td>\n",
       "      <td>2016.0</td>\n",
       "      <td>376000.0</td>\n",
       "      <td>5672.48</td>\n",
       "      <td>0</td>\n",
       "    </tr>\n",
       "    <tr>\n",
       "      <th>2</th>\n",
       "      <td>14186244</td>\n",
       "      <td>0.005383</td>\n",
       "      <td>2017-01-01</td>\n",
       "      <td>mis</td>\n",
       "      <td>2.0</td>\n",
       "      <td>3.0</td>\n",
       "      <td>6.536347</td>\n",
       "      <td>2.0</td>\n",
       "      <td>0</td>\n",
       "      <td>1243.0</td>\n",
       "      <td>...</td>\n",
       "      <td>0.0</td>\n",
       "      <td>0.0</td>\n",
       "      <td>1962.0</td>\n",
       "      <td>1.0</td>\n",
       "      <td>85289.0</td>\n",
       "      <td>564778.0</td>\n",
       "      <td>2016.0</td>\n",
       "      <td>479489.0</td>\n",
       "      <td>6488.30</td>\n",
       "      <td>0</td>\n",
       "    </tr>\n",
       "    <tr>\n",
       "      <th>3</th>\n",
       "      <td>12177905</td>\n",
       "      <td>-0.103410</td>\n",
       "      <td>2017-01-01</td>\n",
       "      <td>mis</td>\n",
       "      <td>3.0</td>\n",
       "      <td>4.0</td>\n",
       "      <td>8.000000</td>\n",
       "      <td>3.0</td>\n",
       "      <td>0</td>\n",
       "      <td>2376.0</td>\n",
       "      <td>...</td>\n",
       "      <td>0.0</td>\n",
       "      <td>0.0</td>\n",
       "      <td>1970.0</td>\n",
       "      <td>0.0</td>\n",
       "      <td>108918.0</td>\n",
       "      <td>145143.0</td>\n",
       "      <td>2016.0</td>\n",
       "      <td>36225.0</td>\n",
       "      <td>1777.51</td>\n",
       "      <td>0</td>\n",
       "    </tr>\n",
       "    <tr>\n",
       "      <th>4</th>\n",
       "      <td>10887214</td>\n",
       "      <td>0.006940</td>\n",
       "      <td>2017-01-01</td>\n",
       "      <td>1</td>\n",
       "      <td>3.0</td>\n",
       "      <td>3.0</td>\n",
       "      <td>8.000000</td>\n",
       "      <td>3.0</td>\n",
       "      <td>0</td>\n",
       "      <td>1312.0</td>\n",
       "      <td>...</td>\n",
       "      <td>0.0</td>\n",
       "      <td>0.0</td>\n",
       "      <td>1964.0</td>\n",
       "      <td>0.0</td>\n",
       "      <td>73681.0</td>\n",
       "      <td>119407.0</td>\n",
       "      <td>2016.0</td>\n",
       "      <td>45726.0</td>\n",
       "      <td>1533.89</td>\n",
       "      <td>0</td>\n",
       "    </tr>\n",
       "  </tbody>\n",
       "</table>\n",
       "<p>5 rows × 42 columns</p>\n",
       "</div>"
      ],
      "text/plain": [
       "   parcelid  logerror transactiondate airconditioningtypeid  bathroomcnt  \\\n",
       "0  14297519  0.025595      2017-01-01                   mis          3.5   \n",
       "1  17052889  0.055619      2017-01-01                   mis          1.0   \n",
       "2  14186244  0.005383      2017-01-01                   mis          2.0   \n",
       "3  12177905 -0.103410      2017-01-01                   mis          3.0   \n",
       "4  10887214  0.006940      2017-01-01                     1          3.0   \n",
       "\n",
       "   bedroomcnt  buildingqualitytypeid  calculatedbathnbr decktypeid  \\\n",
       "0         4.0               6.536347                3.5          0   \n",
       "1         2.0               6.536347                1.0          0   \n",
       "2         3.0               6.536347                2.0          0   \n",
       "3         4.0               8.000000                3.0          0   \n",
       "4         3.0               8.000000                3.0          0   \n",
       "\n",
       "   calculatedfinishedsquarefeet         ...          yardbuildingsqft17  \\\n",
       "0                        3100.0         ...                         0.0   \n",
       "1                        1465.0         ...                         0.0   \n",
       "2                        1243.0         ...                         0.0   \n",
       "3                        2376.0         ...                         0.0   \n",
       "4                        1312.0         ...                         0.0   \n",
       "\n",
       "  yardbuildingsqft26  yearbuilt  numberofstories  structuretaxvaluedollarcnt  \\\n",
       "0                0.0     1998.0              0.0                    485713.0   \n",
       "1                0.0     1967.0              1.0                     88000.0   \n",
       "2                0.0     1962.0              1.0                     85289.0   \n",
       "3                0.0     1970.0              0.0                    108918.0   \n",
       "4                0.0     1964.0              0.0                     73681.0   \n",
       "\n",
       "   taxvaluedollarcnt assessmentyear  landtaxvaluedollarcnt  taxamount  \\\n",
       "0          1023282.0         2016.0               537569.0   11013.72   \n",
       "1           464000.0         2016.0               376000.0    5672.48   \n",
       "2           564778.0         2016.0               479489.0    6488.30   \n",
       "3           145143.0         2016.0                36225.0    1777.51   \n",
       "4           119407.0         2016.0                45726.0    1533.89   \n",
       "\n",
       "   taxdelinquencyflag  \n",
       "0                   0  \n",
       "1                   0  \n",
       "2                   0  \n",
       "3                   0  \n",
       "4                   0  \n",
       "\n",
       "[5 rows x 42 columns]"
      ]
     },
     "execution_count": 22,
     "metadata": {},
     "output_type": "execute_result"
    }
   ],
   "source": [
    "dat_2017.head()"
   ]
  },
  {
   "cell_type": "code",
   "execution_count": 23,
   "metadata": {},
   "outputs": [
    {
     "data": {
      "text/plain": [
       "parcelid                        False\n",
       "logerror                        False\n",
       "transactiondate                 False\n",
       "airconditioningtypeid           False\n",
       "bathroomcnt                     False\n",
       "bedroomcnt                      False\n",
       "buildingqualitytypeid           False\n",
       "calculatedbathnbr               False\n",
       "decktypeid                      False\n",
       "calculatedfinishedsquarefeet    False\n",
       "finishedsquarefeet12            False\n",
       "fips                            False\n",
       "fireplacecnt                    False\n",
       "fullbathcnt                     False\n",
       "garagecarcnt                    False\n",
       "garagetotalsqft                 False\n",
       "heatingorsystemtypeid           False\n",
       "latitude                        False\n",
       "longitude                       False\n",
       "lotsizesquarefeet               False\n",
       "pooltypeid10                    False\n",
       "pooltypeid2                     False\n",
       "pooltypeid7                     False\n",
       "propertycountylandusecode       False\n",
       "propertylandusetypeid           False\n",
       "propertyzoningdesc              False\n",
       "regionidcity                    False\n",
       "regionidcounty                  False\n",
       "regionidneighborhood            False\n",
       "regionidzip                     False\n",
       "roomcnt                         False\n",
       "unitcnt                         False\n",
       "yardbuildingsqft17              False\n",
       "yardbuildingsqft26              False\n",
       "yearbuilt                       False\n",
       "numberofstories                 False\n",
       "structuretaxvaluedollarcnt      False\n",
       "taxvaluedollarcnt               False\n",
       "assessmentyear                  False\n",
       "landtaxvaluedollarcnt           False\n",
       "taxamount                       False\n",
       "taxdelinquencyflag              False\n",
       "dtype: bool"
      ]
     },
     "execution_count": 23,
     "metadata": {},
     "output_type": "execute_result"
    }
   ],
   "source": [
    "dat_2017.isnull().any()"
   ]
  },
  {
   "cell_type": "code",
   "execution_count": 24,
   "metadata": {
    "collapsed": true
   },
   "outputs": [],
   "source": [
    "dat_2017.to_csv('ols.csv')"
   ]
  },
  {
   "cell_type": "code",
   "execution_count": null,
   "metadata": {
    "collapsed": true
   },
   "outputs": [],
   "source": []
  }
 ],
 "metadata": {
  "kernelspec": {
   "display_name": "Python 3",
   "language": "python",
   "name": "python3"
  },
  "language_info": {
   "codemirror_mode": {
    "name": "ipython",
    "version": 3
   },
   "file_extension": ".py",
   "mimetype": "text/x-python",
   "name": "python",
   "nbconvert_exporter": "python",
   "pygments_lexer": "ipython3",
   "version": "3.6.3"
  }
 },
 "nbformat": 4,
 "nbformat_minor": 2
}
